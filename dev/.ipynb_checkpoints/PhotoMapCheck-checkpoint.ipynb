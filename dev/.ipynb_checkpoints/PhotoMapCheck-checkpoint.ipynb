{
 "cells": [
  {
   "cell_type": "code",
   "execution_count": 17,
   "id": "68937592-e9a6-4332-903c-349efaae2297",
   "metadata": {},
   "outputs": [],
   "source": [
    "import pandas as pd\n",
    "import numpy as np\n",
    "from os import listdir\n",
    "from os.path import isfile, join"
   ]
  },
  {
   "cell_type": "code",
   "execution_count": 18,
   "id": "d969c5e4-f0b9-4b6c-adc0-74a47ff6a811",
   "metadata": {},
   "outputs": [],
   "source": [
    "new_photos = pd.read_excel(\"/Users/keith/Dropbox/ProtestProject/PhotoList.xlsx\")"
   ]
  },
  {
   "cell_type": "code",
   "execution_count": 56,
   "id": "9c9c4623-4ac9-4e50-9b05-6da24385f947",
   "metadata": {},
   "outputs": [],
   "source": [
    "photo_nums_new = new_photos.Number.values.tolist()"
   ]
  },
  {
   "cell_type": "code",
   "execution_count": 58,
   "id": "028aeea4-1545-41d2-9c37-d8963ed39ef2",
   "metadata": {},
   "outputs": [],
   "source": [
    "notext_dir = \"/Users/keith/Desktop/NoText/\"\n",
    "notext_files = [f for f in listdir(notext_dir) if isfile(join(notext_dir, f))]\n",
    "# Only import jpegs\n",
    "notext_files = [f for f in notext_files if f.endswith('.jpg') and not \"_2\" in f]\n",
    "notext_files.sort()"
   ]
  },
  {
   "cell_type": "code",
   "execution_count": 59,
   "id": "bfea028e-70f0-4670-a828-862bfd957ad1",
   "metadata": {},
   "outputs": [],
   "source": [
    "photo_nums_old = [f[5:8] for f in notext_files]"
   ]
  },
  {
   "cell_type": "code",
   "execution_count": 60,
   "id": "cac0d311-5563-451c-8c49-8e697362bcb0",
   "metadata": {},
   "outputs": [
    {
     "data": {
      "text/plain": [
       "[1001,\n",
       " 1002,\n",
       " 1003,\n",
       " 1004,\n",
       " 1005,\n",
       " 1006,\n",
       " 1007,\n",
       " 1008,\n",
       " 1009,\n",
       " 1010,\n",
       " 1011,\n",
       " 1012,\n",
       " 1013,\n",
       " 1014,\n",
       " 1015,\n",
       " 1016,\n",
       " 1017,\n",
       " 1018,\n",
       " 1019,\n",
       " 1020,\n",
       " 1021,\n",
       " 1022,\n",
       " 1023,\n",
       " 1024,\n",
       " 1025,\n",
       " 1026,\n",
       " 1027,\n",
       " 1028,\n",
       " 1029,\n",
       " 1030,\n",
       " 1031,\n",
       " 1032,\n",
       " 1033,\n",
       " 1034,\n",
       " 1035,\n",
       " 1036,\n",
       " 1037,\n",
       " 1038,\n",
       " 1039,\n",
       " 1040,\n",
       " 1041,\n",
       " 1042,\n",
       " 1043,\n",
       " 1044,\n",
       " 1045,\n",
       " 1046,\n",
       " 1047,\n",
       " 1048,\n",
       " 1049,\n",
       " 1050,\n",
       " 1051,\n",
       " 1052,\n",
       " 1053,\n",
       " 1054,\n",
       " 1055,\n",
       " 1056,\n",
       " 1057,\n",
       " 1058,\n",
       " 1059,\n",
       " 1060,\n",
       " 1061,\n",
       " 1062,\n",
       " 1063,\n",
       " 1064,\n",
       " 1065,\n",
       " 1066,\n",
       " 1067,\n",
       " 1068,\n",
       " 1069,\n",
       " 1070,\n",
       " 1071,\n",
       " 1072,\n",
       " 1073,\n",
       " 1074,\n",
       " 1075,\n",
       " 1076,\n",
       " 1077,\n",
       " 1078,\n",
       " 1079]"
      ]
     },
     "execution_count": 60,
     "metadata": {},
     "output_type": "execute_result"
    }
   ],
   "source": [
    "photo_nums_new"
   ]
  },
  {
   "cell_type": "code",
   "execution_count": 61,
   "id": "a8e46f79-e430-4818-bfdb-74e2608467a2",
   "metadata": {},
   "outputs": [],
   "source": [
    "photo_nums = photo_nums_new + photo_nums_old"
   ]
  },
  {
   "cell_type": "code",
   "execution_count": 62,
   "id": "0a53721a-62ac-4f30-ac55-de5d69be38f7",
   "metadata": {},
   "outputs": [],
   "source": [
    "photo_map = pd.read_excel(\"/Users/keith/Dropbox/ProtestProject/PhotoMap.xlsx\")"
   ]
  },
  {
   "cell_type": "code",
   "execution_count": 38,
   "id": "d3fc5def-57bc-4c98-81e4-f52a5fc46f34",
   "metadata": {},
   "outputs": [],
   "source": [
    "for_maps = []\n",
    "for photo in photo_map.PhotosFor.values:\n",
    "    for_vals = photo.replace(' ','').split(',')\n",
    "    for v in for_vals:\n",
    "        for_maps.append(v)"
   ]
  },
  {
   "cell_type": "code",
   "execution_count": 40,
   "id": "425a3bc5-f524-4d1a-bfd7-901eef48b82a",
   "metadata": {},
   "outputs": [],
   "source": [
    "for_maps = list(set(for_maps))"
   ]
  },
  {
   "cell_type": "code",
   "execution_count": 43,
   "id": "40b177dc-4d9a-4992-b3e1-a4b6145809ee",
   "metadata": {},
   "outputs": [],
   "source": [
    "con_maps = []\n",
    "for photo in photo_map.PhotosAgainst.values:\n",
    "    con_vals = photo.replace(' ','').split(',')\n",
    "    for v in con_vals:\n",
    "        con_maps.append(v)"
   ]
  },
  {
   "cell_type": "code",
   "execution_count": 44,
   "id": "7e32ad62-0ece-4df8-a338-a9a2021780a2",
   "metadata": {},
   "outputs": [],
   "source": [
    "con_maps = list(set(con_maps))"
   ]
  },
  {
   "cell_type": "code",
   "execution_count": 64,
   "id": "08743f42-2f3e-4f9b-b976-08446eac06f5",
   "metadata": {},
   "outputs": [],
   "source": [
    "photo_map2 = pd.read_excel(\"/Users/keith/Dropbox/ProtestProject/PhotoMap_1041-1079.xlsx\")\n",
    "for_maps2 = []\n",
    "for photo in photo_map.PhotosFor.values:\n",
    "    for_vals = photo.replace(' ','').split(',')\n",
    "    for v in for_vals:\n",
    "        for_maps2.append(v)\n",
    "con_maps2 = []\n",
    "for photo in photo_map.PhotosAgainst.values:\n",
    "    con_vals = photo.replace(' ','').split(',')\n",
    "    for v in con_vals:\n",
    "        con_maps2.append(v)\n",
    "all_maps = for_maps + con_maps + for_maps2 + con_maps2"
   ]
  },
  {
   "cell_type": "code",
   "execution_count": 65,
   "id": "e497c382-ce40-466c-a445-2bd37271ee10",
   "metadata": {},
   "outputs": [],
   "source": [
    "all_mapped = list(set(all_maps))\n",
    "all_mapped.sort()"
   ]
  },
  {
   "cell_type": "code",
   "execution_count": 72,
   "id": "315b93ea-4e2d-4175-bc9c-c8bf62996400",
   "metadata": {},
   "outputs": [
    {
     "data": {
      "text/plain": [
       "True"
      ]
     },
     "execution_count": 72,
     "metadata": {},
     "output_type": "execute_result"
    }
   ],
   "source": [
    "all_mapped[0].isnumeric()"
   ]
  },
  {
   "cell_type": "code",
   "execution_count": 76,
   "id": "552588ab-7b2c-4624-a0d4-a8e45f0ccbac",
   "metadata": {},
   "outputs": [
    {
     "data": {
      "text/plain": [
       "True"
      ]
     },
     "execution_count": 76,
     "metadata": {},
     "output_type": "execute_result"
    }
   ],
   "source": [
    "all_mapped[0].isnumeric()"
   ]
  },
  {
   "cell_type": "code",
   "execution_count": 83,
   "id": "0b247b61-4dee-43f3-863f-b78e0888aa0b",
   "metadata": {},
   "outputs": [
    {
     "name": "stdout",
     "output_type": "stream",
     "text": [
      "1032\n",
      "1042\n",
      "1043\n",
      "1044\n",
      "1045\n",
      "1046\n",
      "1047\n",
      "1048\n",
      "1049\n",
      "1050\n",
      "1051\n",
      "1052\n",
      "1053\n",
      "1054\n",
      "1055\n",
      "1056\n",
      "1057\n",
      "1058\n",
      "1059\n",
      "1060\n",
      "1061\n",
      "1062\n",
      "1063\n",
      "1064\n",
      "1065\n",
      "1066\n",
      "1067\n",
      "1068\n",
      "1069\n",
      "1070\n",
      "1071\n",
      "1072\n",
      "1073\n",
      "1075\n",
      "1076\n",
      "1077\n",
      "1078\n",
      "1079\n"
     ]
    }
   ],
   "source": [
    "for p in photo_nums:\n",
    "    if not str(p) in all_mapped:\n",
    "        print(p)"
   ]
  }
 ],
 "metadata": {
  "kernelspec": {
   "display_name": "Python 3",
   "language": "python",
   "name": "python3"
  },
  "language_info": {
   "codemirror_mode": {
    "name": "ipython",
    "version": 3
   },
   "file_extension": ".py",
   "mimetype": "text/x-python",
   "name": "python",
   "nbconvert_exporter": "python",
   "pygments_lexer": "ipython3",
   "version": "3.7.6"
  }
 },
 "nbformat": 4,
 "nbformat_minor": 5
}
