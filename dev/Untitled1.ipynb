{
 "cells": [
  {
   "cell_type": "code",
   "execution_count": 1,
   "id": "558db0eb-c4fc-4248-b75d-fae64e5c144e",
   "metadata": {},
   "outputs": [],
   "source": [
    "import pandas as pd"
   ]
  },
  {
   "cell_type": "markdown",
   "id": "6d0d574b-8543-4ba7-b1e0-fe8cf433347f",
   "metadata": {},
   "source": [
    "Given a set of ratings, generate pairs of protests"
   ]
  },
  {
   "cell_type": "code",
   "execution_count": null,
   "id": "c559e6aa-c156-4b28-a505-b2f0d2da6fda",
   "metadata": {},
   "outputs": [],
   "source": []
  }
 ],
 "metadata": {
  "kernelspec": {
   "display_name": "Python 3",
   "language": "python",
   "name": "python3"
  },
  "language_info": {
   "codemirror_mode": {
    "name": "ipython",
    "version": 3
   },
   "file_extension": ".py",
   "mimetype": "text/x-python",
   "name": "python",
   "nbconvert_exporter": "python",
   "pygments_lexer": "ipython3",
   "version": "3.7.9"
  }
 },
 "nbformat": 4,
 "nbformat_minor": 5
}
