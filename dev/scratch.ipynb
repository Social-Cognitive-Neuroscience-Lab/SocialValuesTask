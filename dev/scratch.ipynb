{
 "cells": [
  {
   "cell_type": "markdown",
   "id": "bc42dc78-b7ba-4262-a88f-cc09d0868ab3",
   "metadata": {},
   "source": [
    "# Developing protest position"
   ]
  },
  {
   "cell_type": "code",
   "execution_count": 40,
   "id": "353015d1-b6cc-4b2f-8c6b-3c638c4813bd",
   "metadata": {},
   "outputs": [
    {
     "data": {
      "text/plain": [
       "'issue4'"
      ]
     },
     "execution_count": 40,
     "metadata": {},
     "output_type": "execute_result"
    }
   ],
   "source": [
    "var n_support = 7;\n",
    "var n_moral = 10;\n",
    "var n_pos = 2;\n",
    "\n",
    "/* return a shuffled copy of an array */\n",
    "function shuffle(arr) {\n",
    "    var j, x, i;\n",
    "    var a = arr.slice();\n",
    "    for (i = a.length - 1; i > 0; i--) {\n",
    "        j = Math.floor(Math.random() * (i + 1));\n",
    "        x = a[i];\n",
    "        a[i] = a[j];\n",
    "        a[j] = x;\n",
    "    }\n",
    "    return a;\n",
    "}\n",
    "\n",
    "var issue_array = [];\n",
    "issue_array.length = n_support;\n",
    "\n",
    "for (var s=0; s < n_support; s++) {\n",
    "    issue_array[s] = [];\n",
    "    issue_array[s].length = n_moral;\n",
    "    for (var m=0; m < n_moral; m++) {\n",
    "        issue_array[s][m] = [];\n",
    "        issue_array[s][m].length = n_pos\n",
    "    }\n",
    "}\n",
    "issue_array[6][8][0] = \"issue1\";\n",
    "issue_array[6][8][1] = [\"issue2\", \"issue3\"];\n",
    "issue_array[0][0][1] = \"issue4\";"
   ]
  },
  {
   "cell_type": "code",
   "execution_count": 44,
   "id": "563a34a2-d26d-402b-becd-474bfc0a7dca",
   "metadata": {},
   "outputs": [],
   "source": [
    "function flip(support) {\n",
    "    var flipped;\n",
    "    flipped = (support - 4) * -1 + 4\n",
    "    return flipped\n",
    "}"
   ]
  },
  {
   "cell_type": "code",
   "execution_count": 48,
   "id": "50f339ce-10a2-47c4-a8ef-b3260bd0a017",
   "metadata": {},
   "outputs": [
    {
     "data": {
      "text/plain": [
       "'2_4'"
      ]
     },
     "execution_count": 48,
     "metadata": {},
     "output_type": "execute_result"
    }
   ],
   "source": [
    "flip(6) + '_' + 4"
   ]
  },
  {
   "cell_type": "code",
   "execution_count": 54,
   "id": "4107d872-8b5c-46ce-a51b-5c5c66eeaec4",
   "metadata": {},
   "outputs": [
    {
     "name": "stdout",
     "output_type": "stream",
     "text": [
      "[ 'iss1', 'iss2', 'iss3' ]\n",
      "[ 'iss4', 'iss5', 'iss6' ]\n",
      "[ 'iss1', 'iss2', 'iss3' ]\n",
      "[ 'iss4', 'iss5', 'iss6' ]\n",
      "[ 'iss1', 'iss2', 'iss3', 'iss4', 'iss5', 'iss6' ]\n"
     ]
    }
   ],
   "source": [
    "a = ['iss1', 'iss2', 'iss3'];\n",
    "b = ['iss4', 'iss5', 'iss6'];\n",
    "console.log(a)\n",
    "console.log(b)\n",
    "c = a.concat(b)\n",
    "console.log(a)\n",
    "console.log(b)\n",
    "console.log(c)"
   ]
  },
  {
   "cell_type": "code",
   "execution_count": 55,
   "id": "fea4f7a7-1342-43f9-a298-63798dd21239",
   "metadata": {},
   "outputs": [
    {
     "data": {
      "text/plain": [
       "[ 'iss1', 'iss2', 'iss3', 'iss1', 'iss2', 'iss3' ]"
      ]
     },
     "execution_count": 55,
     "metadata": {},
     "output_type": "execute_result"
    }
   ],
   "source": [
    "a = a.concat(a)"
   ]
  },
  {
   "cell_type": "code",
   "execution_count": 62,
   "id": "06a0a4e2-a7dc-4680-9750-fdb0eb60646b",
   "metadata": {},
   "outputs": [
    {
     "data": {
      "text/plain": [
       "'iss1iss2'"
      ]
     },
     "execution_count": 62,
     "metadata": {},
     "output_type": "execute_result"
    }
   ],
   "source": [
    "a[0].concat(a[1])"
   ]
  },
  {
   "cell_type": "code",
   "execution_count": 59,
   "id": "3e3446e6-1154-4775-b393-63d1fee4883b",
   "metadata": {},
   "outputs": [
    {
     "data": {
      "text/plain": [
       "[ 'i', 'ss1' ]"
      ]
     },
     "execution_count": 59,
     "metadata": {},
     "output_type": "execute_result"
    }
   ],
   "source": [
    "var decoded = [a[0].slice(0,1), a[0].slice(1)]\n",
    "decoded"
   ]
  },
  {
   "cell_type": "code",
   "execution_count": 41,
   "id": "43d7424a-ea2f-419c-9eb6-dc476cb87ee5",
   "metadata": {},
   "outputs": [
    {
     "data": {
      "text/plain": [
       "[ 'issue1', [ 'issue2', 'issue3' ] ]"
      ]
     },
     "execution_count": 41,
     "metadata": {},
     "output_type": "execute_result"
    }
   ],
   "source": [
    "iss = issue_array[6][8]"
   ]
  },
  {
   "cell_type": "code",
   "execution_count": 61,
   "id": "b6b05cf7-3016-4ac2-9050-5366d99a4145",
   "metadata": {},
   "outputs": [
    {
     "data": {
      "text/plain": [
       "false"
      ]
     },
     "execution_count": 61,
     "metadata": {},
     "output_type": "execute_result"
    }
   ],
   "source": [
    "'+' == '-'"
   ]
  },
  {
   "cell_type": "code",
   "execution_count": 43,
   "id": "fe0a653c-352c-4be0-95fc-eea4932d27b3",
   "metadata": {},
   "outputs": [
    {
     "data": {
      "text/plain": [
       "[ [ 'issue2', 'issue3' ], 'issue1' ]"
      ]
     },
     "execution_count": 43,
     "metadata": {},
     "output_type": "execute_result"
    }
   ],
   "source": [
    "shuffle(issue_array[6][8])"
   ]
  },
  {
   "cell_type": "code",
   "execution_count": 28,
   "id": "e651b899-f908-409e-8bdd-405ba29c1321",
   "metadata": {},
   "outputs": [
    {
     "data": {
      "text/plain": [
       "2"
      ]
     },
     "execution_count": 28,
     "metadata": {},
     "output_type": "execute_result"
    }
   ],
   "source": [
    "issue_array[0][0].length"
   ]
  },
  {
   "cell_type": "code",
   "execution_count": 29,
   "id": "52fb459f-3d84-4d9b-9a9c-7e6038d965eb",
   "metadata": {},
   "outputs": [
    {
     "data": {
      "text/plain": [
       "[ <1 empty item>, 'issue3' ]"
      ]
     },
     "execution_count": 29,
     "metadata": {},
     "output_type": "execute_result"
    }
   ],
   "source": [
    "issue_array[0][0]"
   ]
  },
  {
   "cell_type": "code",
   "execution_count": 30,
   "id": "1b0ad41d-1f8d-43fe-8e73-55fe35b9e289",
   "metadata": {},
   "outputs": [
    {
     "ename": "TypeError",
     "evalue": "Cannot read property 'length' of undefined",
     "execution_count": 30,
     "output_type": "error",
     "traceback": [
      "evalmachine.<anonymous>:1",
      "issue_array[0][0][0].length",
      "                     ^",
      "",
      "TypeError: Cannot read property 'length' of undefined",
      "    at evalmachine.<anonymous>:1:22",
      "    at Script.runInThisContext (node:vm:129:12)",
      "    at Object.runInThisContext (node:vm:305:38)",
      "    at run ([eval]:1054:15)",
      "    at onRunRequest ([eval]:888:18)",
      "    at onMessage ([eval]:848:13)",
      "    at process.emit (node:events:394:28)",
      "    at emit (node:internal/child_process:920:12)",
      "    at processTicksAndRejections (node:internal/process/task_queues:84:21)"
     ]
    }
   ],
   "source": [
    "issue_array[0][0][0].length"
   ]
  },
  {
   "cell_type": "code",
   "execution_count": 31,
   "id": "7dfa0978-01b0-4684-bf50-bb7a0f1ee4ee",
   "metadata": {},
   "outputs": [
    {
     "data": {
      "text/plain": [
       "[ <1 empty item>, 'issue3' ]"
      ]
     },
     "execution_count": 31,
     "metadata": {},
     "output_type": "execute_result"
    }
   ],
   "source": [
    "issue_array[0][0]"
   ]
  },
  {
   "cell_type": "code",
   "execution_count": 38,
   "id": "eaf45625-98eb-4378-baf5-7b6be1e1b4e4",
   "metadata": {},
   "outputs": [
    {
     "data": {
      "text/plain": [
       "[ 'issue3', undefined ]"
      ]
     },
     "execution_count": 38,
     "metadata": {},
     "output_type": "execute_result"
    }
   ],
   "source": [
    "shuffle(issue_array[0][0])"
   ]
  },
  {
   "cell_type": "code",
   "execution_count": 15,
   "id": "37c161ec-835a-4ec5-87fc-90c2917139d0",
   "metadata": {},
   "outputs": [],
   "source": [
    "issue_array[0][0][0]"
   ]
  },
  {
   "cell_type": "code",
   "execution_count": 17,
   "id": "4b4102de-08a0-48a0-8154-714af66b4a18",
   "metadata": {},
   "outputs": [
    {
     "data": {
      "text/plain": [
       "6"
      ]
     },
     "execution_count": 17,
     "metadata": {},
     "output_type": "execute_result"
    }
   ],
   "source": [
    "issue_array[0][0][1].length"
   ]
  },
  {
   "cell_type": "code",
   "execution_count": 18,
   "id": "a1b78c37-6d93-4ceb-a465-82374c3144f5",
   "metadata": {},
   "outputs": [
    {
     "ename": "TypeError",
     "evalue": "Cannot read property 'length' of undefined",
     "execution_count": 18,
     "output_type": "error",
     "traceback": [
      "evalmachine.<anonymous>:1",
      "!issue_array[0][0][0].length",
      "                      ^",
      "",
      "TypeError: Cannot read property 'length' of undefined",
      "    at evalmachine.<anonymous>:1:23",
      "    at Script.runInThisContext (node:vm:129:12)",
      "    at Object.runInThisContext (node:vm:305:38)",
      "    at run ([eval]:1054:15)",
      "    at onRunRequest ([eval]:888:18)",
      "    at onMessage ([eval]:848:13)",
      "    at process.emit (node:events:394:28)",
      "    at emit (node:internal/child_process:920:12)",
      "    at processTicksAndRejections (node:internal/process/task_queues:84:21)"
     ]
    }
   ],
   "source": [
    "!issue_array[0][0][0].length"
   ]
  },
  {
   "cell_type": "code",
   "execution_count": 19,
   "id": "ab724ede-a870-48b6-8a07-306460ac4bb2",
   "metadata": {},
   "outputs": [
    {
     "data": {
      "text/plain": [
       "true"
      ]
     },
     "execution_count": 19,
     "metadata": {},
     "output_type": "execute_result"
    }
   ],
   "source": [
    "undefined == issue_array[0][0][0]"
   ]
  },
  {
   "cell_type": "code",
   "execution_count": 23,
   "id": "4aa7ce6a-2f87-4af6-b1b4-77318038e132",
   "metadata": {},
   "outputs": [
    {
     "data": {
      "text/plain": [
       "[ <2 empty items> ]"
      ]
     },
     "execution_count": 23,
     "metadata": {},
     "output_type": "execute_result"
    }
   ],
   "source": [
    "issue_array[0][0]"
   ]
  },
  {
   "cell_type": "code",
   "execution_count": 63,
   "id": "5ef5d531-f564-43f2-9a4d-d7809a4417d1",
   "metadata": {},
   "outputs": [
    {
     "data": {
      "text/plain": [
       "[ 'iss1', 'iss2', 'iss3', 'iss4', 'iss5', 'iss6' ]"
      ]
     },
     "execution_count": 63,
     "metadata": {},
     "output_type": "execute_result"
    }
   ],
   "source": [
    "c"
   ]
  },
  {
   "cell_type": "code",
   "execution_count": 64,
   "id": "4d1be32b-3118-4c3d-b1b1-41080c904f10",
   "metadata": {},
   "outputs": [
    {
     "data": {
      "text/plain": [
       "[ 'iss1', 'iss2', 'iss3' ]"
      ]
     },
     "execution_count": 64,
     "metadata": {},
     "output_type": "execute_result"
    }
   ],
   "source": [
    "STIM_N = 6\n",
    "c.slice(0,STIM_N/2)"
   ]
  },
  {
   "cell_type": "code",
   "execution_count": 65,
   "id": "8f73432b-76ef-4b02-b267-40ade3f1d176",
   "metadata": {},
   "outputs": [
    {
     "data": {
      "text/plain": [
       "[ 'iss4', 'iss5', 'iss6' ]"
      ]
     },
     "execution_count": 65,
     "metadata": {},
     "output_type": "execute_result"
    }
   ],
   "source": [
    "STIM_N = 6\n",
    "c.slice(STIM_N/2)"
   ]
  },
  {
   "cell_type": "code",
   "execution_count": 66,
   "id": "d9dc72fb-a30d-445e-a169-fabe09ec839a",
   "metadata": {},
   "outputs": [
    {
     "data": {
      "text/plain": [
       "[ 'iss1', 'iss2' ]"
      ]
     },
     "execution_count": 66,
     "metadata": {},
     "output_type": "execute_result"
    }
   ],
   "source": [
    "STIM_N = 5\n",
    "c.slice(0,STIM_N/2)"
   ]
  },
  {
   "cell_type": "code",
   "execution_count": 67,
   "id": "201125a6-885c-4654-a4ca-460e5ef52e11",
   "metadata": {},
   "outputs": [
    {
     "data": {
      "text/plain": [
       "[ 'iss3', 'iss4', 'iss5', 'iss6' ]"
      ]
     },
     "execution_count": 67,
     "metadata": {},
     "output_type": "execute_result"
    }
   ],
   "source": [
    "c.slice(STIM_N/2)"
   ]
  },
  {
   "cell_type": "code",
   "execution_count": 69,
   "id": "3a44d7ac-c750-4f95-b03c-054964c999aa",
   "metadata": {},
   "outputs": [
    {
     "name": "stdout",
     "output_type": "stream",
     "text": [
      "True\n"
     ]
    }
   ],
   "source": [
    "fs = []\n",
    "if (fs.length == 0) {\n",
    "    console.log('True')\n",
    "} else {\n",
    "    console.log('False')\n",
    "}"
   ]
  },
  {
   "cell_type": "code",
   "execution_count": 71,
   "id": "a3a8d80d-9282-4737-b805-e2b98625f8ac",
   "metadata": {},
   "outputs": [
    {
     "data": {
      "text/plain": [
       "1"
      ]
     },
     "execution_count": 71,
     "metadata": {},
     "output_type": "execute_result"
    }
   ],
   "source": [
    "issue_array = []\n",
    "issue_array.length = 7\n",
    "issue_array[7] = 1"
   ]
  },
  {
   "cell_type": "code",
   "execution_count": 72,
   "id": "9b2e8c14-f0f6-4151-b4f9-034536a497f2",
   "metadata": {},
   "outputs": [
    {
     "data": {
      "text/plain": [
       "[ <7 empty items>, 1 ]"
      ]
     },
     "execution_count": 72,
     "metadata": {},
     "output_type": "execute_result"
    }
   ],
   "source": [
    "issue_array"
   ]
  },
  {
   "cell_type": "code",
   "execution_count": 73,
   "id": "afab8bdb-454b-41d1-80c8-01ea0dd8c83d",
   "metadata": {},
   "outputs": [
    {
     "data": {
      "text/plain": [
       "[ 1, 2, 3, 4 ]"
      ]
     },
     "execution_count": 73,
     "metadata": {},
     "output_type": "execute_result"
    }
   ],
   "source": [
    "ma = [1,2,3,4]\n",
    "ma"
   ]
  },
  {
   "cell_type": "code",
   "execution_count": 74,
   "id": "e62d6eba-65fe-4a64-8214-c80b2fbc98b0",
   "metadata": {},
   "outputs": [
    {
     "data": {
      "text/plain": [
       "NaN"
      ]
     },
     "execution_count": 74,
     "metadata": {},
     "output_type": "execute_result"
    }
   ],
   "source": [
    "ma - 1"
   ]
  },
  {
   "cell_type": "code",
   "execution_count": null,
   "id": "ef2d5b51-7019-4c5e-a837-afaca4a52b86",
   "metadata": {},
   "outputs": [],
   "source": []
  }
 ],
 "metadata": {
  "kernelspec": {
   "display_name": "Javascript (Node.js)",
   "language": "javascript",
   "name": "javascript"
  },
  "language_info": {
   "file_extension": ".js",
   "mimetype": "application/javascript",
   "name": "javascript",
   "version": "16.6.1"
  }
 },
 "nbformat": 4,
 "nbformat_minor": 5
}
