{
 "cells": [
  {
   "cell_type": "markdown",
   "id": "bc42dc78-b7ba-4262-a88f-cc09d0868ab3",
   "metadata": {},
   "source": [
    "# Developing protest position"
   ]
  },
  {
   "cell_type": "code",
   "execution_count": 40,
   "id": "353015d1-b6cc-4b2f-8c6b-3c638c4813bd",
   "metadata": {},
   "outputs": [
    {
     "data": {
      "text/plain": [
       "'issue4'"
      ]
     },
     "execution_count": 40,
     "metadata": {},
     "output_type": "execute_result"
    }
   ],
   "source": [
    "var n_support = 7;\n",
    "var n_moral = 10;\n",
    "var n_pos = 2;\n",
    "\n",
    "/* return a shuffled copy of an array */\n",
    "function shuffle(arr) {\n",
    "    var j, x, i;\n",
    "    var a = arr.slice();\n",
    "    for (i = a.length - 1; i > 0; i--) {\n",
    "        j = Math.floor(Math.random() * (i + 1));\n",
    "        x = a[i];\n",
    "        a[i] = a[j];\n",
    "        a[j] = x;\n",
    "    }\n",
    "    return a;\n",
    "}\n",
    "\n",
    "var issue_array = [];\n",
    "issue_array.length = n_support;\n",
    "\n",
    "for (var s=0; s < n_support; s++) {\n",
    "    issue_array[s] = [];\n",
    "    issue_array[s].length = n_moral;\n",
    "    for (var m=0; m < n_moral; m++) {\n",
    "        issue_array[s][m] = [];\n",
    "        issue_array[s][m].length = n_pos\n",
    "    }\n",
    "}\n",
    "issue_array[6][8][0] = \"issue1\";\n",
    "issue_array[6][8][1] = [\"issue2\", \"issue3\"];\n",
    "issue_array[0][0][1] = \"issue4\";"
   ]
  },
  {
   "cell_type": "code",
   "execution_count": 44,
   "id": "563a34a2-d26d-402b-becd-474bfc0a7dca",
   "metadata": {},
   "outputs": [],
   "source": [
    "function flip(support) {\n",
    "    var flipped;\n",
    "    flipped = (support - 4) * -1 + 4\n",
    "    return flipped\n",
    "}"
   ]
  },
  {
   "cell_type": "code",
   "execution_count": 48,
   "id": "50f339ce-10a2-47c4-a8ef-b3260bd0a017",
   "metadata": {},
   "outputs": [
    {
     "data": {
      "text/plain": [
       "'2_4'"
      ]
     },
     "execution_count": 48,
     "metadata": {},
     "output_type": "execute_result"
    }
   ],
   "source": [
    "flip(6) + '_' + 4"
   ]
  },
  {
   "cell_type": "code",
   "execution_count": 54,
   "id": "4107d872-8b5c-46ce-a51b-5c5c66eeaec4",
   "metadata": {},
   "outputs": [
    {
     "name": "stdout",
     "output_type": "stream",
     "text": [
      "[ 'iss1', 'iss2', 'iss3' ]\n",
      "[ 'iss4', 'iss5', 'iss6' ]\n",
      "[ 'iss1', 'iss2', 'iss3' ]\n",
      "[ 'iss4', 'iss5', 'iss6' ]\n",
      "[ 'iss1', 'iss2', 'iss3', 'iss4', 'iss5', 'iss6' ]\n"
     ]
    }
   ],
   "source": [
    "a = ['iss1', 'iss2', 'iss3'];\n",
    "b = ['iss4', 'iss5', 'iss6'];\n",
    "console.log(a)\n",
    "console.log(b)\n",
    "c = a.concat(b)\n",
    "console.log(a)\n",
    "console.log(b)\n",
    "console.log(c)"
   ]
  },
  {
   "cell_type": "code",
   "execution_count": 55,
   "id": "fea4f7a7-1342-43f9-a298-63798dd21239",
   "metadata": {},
   "outputs": [
    {
     "data": {
      "text/plain": [
       "[ 'iss1', 'iss2', 'iss3', 'iss1', 'iss2', 'iss3' ]"
      ]
     },
     "execution_count": 55,
     "metadata": {},
     "output_type": "execute_result"
    }
   ],
   "source": [
    "a = a.concat(a)"
   ]
  },
  {
   "cell_type": "code",
   "execution_count": 62,
   "id": "06a0a4e2-a7dc-4680-9750-fdb0eb60646b",
   "metadata": {},
   "outputs": [
    {
     "data": {
      "text/plain": [
       "'iss1iss2'"
      ]
     },
     "execution_count": 62,
     "metadata": {},
     "output_type": "execute_result"
    }
   ],
   "source": [
    "a[0].concat(a[1])"
   ]
  },
  {
   "cell_type": "code",
   "execution_count": 59,
   "id": "3e3446e6-1154-4775-b393-63d1fee4883b",
   "metadata": {},
   "outputs": [
    {
     "data": {
      "text/plain": [
       "[ 'i', 'ss1' ]"
      ]
     },
     "execution_count": 59,
     "metadata": {},
     "output_type": "execute_result"
    }
   ],
   "source": [
    "var decoded = [a[0].slice(0,1), a[0].slice(1)]\n",
    "decoded"
   ]
  },
  {
   "cell_type": "code",
   "execution_count": 41,
   "id": "43d7424a-ea2f-419c-9eb6-dc476cb87ee5",
   "metadata": {},
   "outputs": [
    {
     "data": {
      "text/plain": [
       "[ 'issue1', [ 'issue2', 'issue3' ] ]"
      ]
     },
     "execution_count": 41,
     "metadata": {},
     "output_type": "execute_result"
    }
   ],
   "source": [
    "iss = issue_array[6][8]"
   ]
  },
  {
   "cell_type": "code",
   "execution_count": 61,
   "id": "b6b05cf7-3016-4ac2-9050-5366d99a4145",
   "metadata": {},
   "outputs": [
    {
     "data": {
      "text/plain": [
       "false"
      ]
     },
     "execution_count": 61,
     "metadata": {},
     "output_type": "execute_result"
    }
   ],
   "source": [
    "'+' == '-'"
   ]
  },
  {
   "cell_type": "code",
   "execution_count": 43,
   "id": "fe0a653c-352c-4be0-95fc-eea4932d27b3",
   "metadata": {},
   "outputs": [
    {
     "data": {
      "text/plain": [
       "[ [ 'issue2', 'issue3' ], 'issue1' ]"
      ]
     },
     "execution_count": 43,
     "metadata": {},
     "output_type": "execute_result"
    }
   ],
   "source": [
    "shuffle(issue_array[6][8])"
   ]
  },
  {
   "cell_type": "code",
   "execution_count": 28,
   "id": "e651b899-f908-409e-8bdd-405ba29c1321",
   "metadata": {},
   "outputs": [
    {
     "data": {
      "text/plain": [
       "2"
      ]
     },
     "execution_count": 28,
     "metadata": {},
     "output_type": "execute_result"
    }
   ],
   "source": [
    "issue_array[0][0].length"
   ]
  },
  {
   "cell_type": "code",
   "execution_count": 29,
   "id": "52fb459f-3d84-4d9b-9a9c-7e6038d965eb",
   "metadata": {},
   "outputs": [
    {
     "data": {
      "text/plain": [
       "[ <1 empty item>, 'issue3' ]"
      ]
     },
     "execution_count": 29,
     "metadata": {},
     "output_type": "execute_result"
    }
   ],
   "source": [
    "issue_array[0][0]"
   ]
  },
  {
   "cell_type": "code",
   "execution_count": 30,
   "id": "1b0ad41d-1f8d-43fe-8e73-55fe35b9e289",
   "metadata": {},
   "outputs": [
    {
     "ename": "TypeError",
     "evalue": "Cannot read property 'length' of undefined",
     "execution_count": 30,
     "output_type": "error",
     "traceback": [
      "evalmachine.<anonymous>:1",
      "issue_array[0][0][0].length",
      "                     ^",
      "",
      "TypeError: Cannot read property 'length' of undefined",
      "    at evalmachine.<anonymous>:1:22",
      "    at Script.runInThisContext (node:vm:129:12)",
      "    at Object.runInThisContext (node:vm:305:38)",
      "    at run ([eval]:1054:15)",
      "    at onRunRequest ([eval]:888:18)",
      "    at onMessage ([eval]:848:13)",
      "    at process.emit (node:events:394:28)",
      "    at emit (node:internal/child_process:920:12)",
      "    at processTicksAndRejections (node:internal/process/task_queues:84:21)"
     ]
    }
   ],
   "source": [
    "issue_array[0][0][0].length"
   ]
  },
  {
   "cell_type": "code",
   "execution_count": 31,
   "id": "7dfa0978-01b0-4684-bf50-bb7a0f1ee4ee",
   "metadata": {},
   "outputs": [
    {
     "data": {
      "text/plain": [
       "[ <1 empty item>, 'issue3' ]"
      ]
     },
     "execution_count": 31,
     "metadata": {},
     "output_type": "execute_result"
    }
   ],
   "source": [
    "issue_array[0][0]"
   ]
  },
  {
   "cell_type": "code",
   "execution_count": 38,
   "id": "eaf45625-98eb-4378-baf5-7b6be1e1b4e4",
   "metadata": {},
   "outputs": [
    {
     "data": {
      "text/plain": [
       "[ 'issue3', undefined ]"
      ]
     },
     "execution_count": 38,
     "metadata": {},
     "output_type": "execute_result"
    }
   ],
   "source": [
    "shuffle(issue_array[0][0])"
   ]
  },
  {
   "cell_type": "code",
   "execution_count": 15,
   "id": "37c161ec-835a-4ec5-87fc-90c2917139d0",
   "metadata": {},
   "outputs": [],
   "source": [
    "issue_array[0][0][0]"
   ]
  },
  {
   "cell_type": "code",
   "execution_count": 17,
   "id": "4b4102de-08a0-48a0-8154-714af66b4a18",
   "metadata": {},
   "outputs": [
    {
     "data": {
      "text/plain": [
       "6"
      ]
     },
     "execution_count": 17,
     "metadata": {},
     "output_type": "execute_result"
    }
   ],
   "source": [
    "issue_array[0][0][1].length"
   ]
  },
  {
   "cell_type": "code",
   "execution_count": 18,
   "id": "a1b78c37-6d93-4ceb-a465-82374c3144f5",
   "metadata": {},
   "outputs": [
    {
     "ename": "TypeError",
     "evalue": "Cannot read property 'length' of undefined",
     "execution_count": 18,
     "output_type": "error",
     "traceback": [
      "evalmachine.<anonymous>:1",
      "!issue_array[0][0][0].length",
      "                      ^",
      "",
      "TypeError: Cannot read property 'length' of undefined",
      "    at evalmachine.<anonymous>:1:23",
      "    at Script.runInThisContext (node:vm:129:12)",
      "    at Object.runInThisContext (node:vm:305:38)",
      "    at run ([eval]:1054:15)",
      "    at onRunRequest ([eval]:888:18)",
      "    at onMessage ([eval]:848:13)",
      "    at process.emit (node:events:394:28)",
      "    at emit (node:internal/child_process:920:12)",
      "    at processTicksAndRejections (node:internal/process/task_queues:84:21)"
     ]
    }
   ],
   "source": [
    "!issue_array[0][0][0].length"
   ]
  },
  {
   "cell_type": "code",
   "execution_count": 19,
   "id": "ab724ede-a870-48b6-8a07-306460ac4bb2",
   "metadata": {},
   "outputs": [
    {
     "data": {
      "text/plain": [
       "true"
      ]
     },
     "execution_count": 19,
     "metadata": {},
     "output_type": "execute_result"
    }
   ],
   "source": [
    "undefined == issue_array[0][0][0]"
   ]
  },
  {
   "cell_type": "code",
   "execution_count": 23,
   "id": "4aa7ce6a-2f87-4af6-b1b4-77318038e132",
   "metadata": {},
   "outputs": [
    {
     "data": {
      "text/plain": [
       "[ <2 empty items> ]"
      ]
     },
     "execution_count": 23,
     "metadata": {},
     "output_type": "execute_result"
    }
   ],
   "source": [
    "issue_array[0][0]"
   ]
  },
  {
   "cell_type": "code",
   "execution_count": 63,
   "id": "5ef5d531-f564-43f2-9a4d-d7809a4417d1",
   "metadata": {},
   "outputs": [
    {
     "data": {
      "text/plain": [
       "[ 'iss1', 'iss2', 'iss3', 'iss4', 'iss5', 'iss6' ]"
      ]
     },
     "execution_count": 63,
     "metadata": {},
     "output_type": "execute_result"
    }
   ],
   "source": [
    "c"
   ]
  },
  {
   "cell_type": "code",
   "execution_count": 64,
   "id": "4d1be32b-3118-4c3d-b1b1-41080c904f10",
   "metadata": {},
   "outputs": [
    {
     "data": {
      "text/plain": [
       "[ 'iss1', 'iss2', 'iss3' ]"
      ]
     },
     "execution_count": 64,
     "metadata": {},
     "output_type": "execute_result"
    }
   ],
   "source": [
    "STIM_N = 6\n",
    "c.slice(0,STIM_N/2)"
   ]
  },
  {
   "cell_type": "code",
   "execution_count": 65,
   "id": "8f73432b-76ef-4b02-b267-40ade3f1d176",
   "metadata": {},
   "outputs": [
    {
     "data": {
      "text/plain": [
       "[ 'iss4', 'iss5', 'iss6' ]"
      ]
     },
     "execution_count": 65,
     "metadata": {},
     "output_type": "execute_result"
    }
   ],
   "source": [
    "STIM_N = 6\n",
    "c.slice(STIM_N/2)"
   ]
  },
  {
   "cell_type": "code",
   "execution_count": 66,
   "id": "d9dc72fb-a30d-445e-a169-fabe09ec839a",
   "metadata": {},
   "outputs": [
    {
     "data": {
      "text/plain": [
       "[ 'iss1', 'iss2' ]"
      ]
     },
     "execution_count": 66,
     "metadata": {},
     "output_type": "execute_result"
    }
   ],
   "source": [
    "STIM_N = 5\n",
    "c.slice(0,STIM_N/2)"
   ]
  },
  {
   "cell_type": "code",
   "execution_count": 67,
   "id": "201125a6-885c-4654-a4ca-460e5ef52e11",
   "metadata": {},
   "outputs": [
    {
     "data": {
      "text/plain": [
       "[ 'iss3', 'iss4', 'iss5', 'iss6' ]"
      ]
     },
     "execution_count": 67,
     "metadata": {},
     "output_type": "execute_result"
    }
   ],
   "source": [
    "c.slice(STIM_N/2)"
   ]
  },
  {
   "cell_type": "code",
   "execution_count": 69,
   "id": "3a44d7ac-c750-4f95-b03c-054964c999aa",
   "metadata": {},
   "outputs": [
    {
     "name": "stdout",
     "output_type": "stream",
     "text": [
      "True\n"
     ]
    }
   ],
   "source": [
    "fs = []\n",
    "if (fs.length == 0) {\n",
    "    console.log('True')\n",
    "} else {\n",
    "    console.log('False')\n",
    "}"
   ]
  },
  {
   "cell_type": "code",
   "execution_count": 71,
   "id": "a3a8d80d-9282-4737-b805-e2b98625f8ac",
   "metadata": {},
   "outputs": [
    {
     "data": {
      "text/plain": [
       "1"
      ]
     },
     "execution_count": 71,
     "metadata": {},
     "output_type": "execute_result"
    }
   ],
   "source": [
    "issue_array = []\n",
    "issue_array.length = 7\n",
    "issue_array[7] = 1"
   ]
  },
  {
   "cell_type": "code",
   "execution_count": 72,
   "id": "9b2e8c14-f0f6-4151-b4f9-034536a497f2",
   "metadata": {},
   "outputs": [
    {
     "data": {
      "text/plain": [
       "[ <7 empty items>, 1 ]"
      ]
     },
     "execution_count": 72,
     "metadata": {},
     "output_type": "execute_result"
    }
   ],
   "source": [
    "issue_array"
   ]
  },
  {
   "cell_type": "code",
   "execution_count": 73,
   "id": "afab8bdb-454b-41d1-80c8-01ea0dd8c83d",
   "metadata": {},
   "outputs": [
    {
     "data": {
      "text/plain": [
       "[ 1, 2, 3, 4 ]"
      ]
     },
     "execution_count": 73,
     "metadata": {},
     "output_type": "execute_result"
    }
   ],
   "source": [
    "ma = [1,2,3,4]\n",
    "ma"
   ]
  },
  {
   "cell_type": "code",
   "execution_count": 74,
   "id": "e62d6eba-65fe-4a64-8214-c80b2fbc98b0",
   "metadata": {},
   "outputs": [
    {
     "data": {
      "text/plain": [
       "NaN"
      ]
     },
     "execution_count": 74,
     "metadata": {},
     "output_type": "execute_result"
    }
   ],
   "source": [
    "ma - 1"
   ]
  },
  {
   "cell_type": "code",
   "execution_count": 76,
   "id": "ef2d5b51-7019-4c5e-a837-afaca4a52b86",
   "metadata": {},
   "outputs": [
    {
     "data": {
      "text/plain": [
       "[ 0, 1, 2, 3 ]"
      ]
     },
     "execution_count": 76,
     "metadata": {},
     "output_type": "execute_result"
    }
   ],
   "source": [
    "ma.map(function(x) {\n",
    "    return x - 1\n",
    "})\n",
    "       "
   ]
  },
  {
   "cell_type": "code",
   "execution_count": 77,
   "id": "76672330-224e-4fa1-82f4-4040c4a30d75",
   "metadata": {},
   "outputs": [
    {
     "data": {
      "text/plain": [
       "[ 1, 2, 3, 4 ]"
      ]
     },
     "execution_count": 77,
     "metadata": {},
     "output_type": "execute_result"
    }
   ],
   "source": [
    "ma"
   ]
  },
  {
   "cell_type": "code",
   "execution_count": 82,
   "id": "8cca4c18-54b9-46aa-9b0b-2ab66bd527bf",
   "metadata": {},
   "outputs": [],
   "source": [
    "function flip(s) {\n",
    "    var flipped;\n",
    "    flipped = (s - 3) * -1 +3;\n",
    "    return flipped\n",
    "}\n"
   ]
  },
  {
   "cell_type": "code",
   "execution_count": 85,
   "id": "a8479fa9-94a0-4891-bc67-f676b5e13a67",
   "metadata": {},
   "outputs": [
    {
     "name": "stdout",
     "output_type": "stream",
     "text": [
      "0\n",
      "6\n",
      "1\n",
      "5\n",
      "2\n",
      "4\n",
      "3\n",
      "3\n",
      "4\n",
      "2\n",
      "5\n",
      "1\n",
      "6\n",
      "0\n"
     ]
    }
   ],
   "source": [
    "vv = [0,1,2,3,4,5,6]\n",
    "for (ii=0; ii<vv.length; ii++) {\n",
    "    console.log(vv[ii])\n",
    "    console.log(flip(vv[ii]))\n",
    "}"
   ]
  },
  {
   "cell_type": "code",
   "execution_count": 87,
   "id": "acc972ba-6f35-434c-ab79-5e71eb545fe9",
   "metadata": {},
   "outputs": [],
   "source": [
    "var stim_list = [\n",
    "  {\n",
    "    \"photo_l\": \"Photo206.jpg\",\n",
    "    \"pos_l\": \"ThumbsUp.jpg\",\n",
    "    \"photo_r\": \"Photo297.jpg\",\n",
    "    \"pos_r\": \"ThumbsUp.jpg\",\n",
    "    \"iss_l\": \"Remove public confederate memorials\",\n",
    "    \"iss_r\": \"Allow terminally ill patients to terminate their lives\"\n",
    "  },\n",
    "  {\n",
    "    \"photo_l\": \"Photo206_2.jpg\",\n",
    "    \"pos_l\": \"ThumbsUp.jpg\",\n",
    "    \"photo_r\": \"Photo297_2.jpg\",\n",
    "    \"pos_r\": \"ThumbsUp.jpg\",\n",
    "    \"iss_l\": \"Black Lives Matter\",\n",
    "    \"iss_r\": \"Tuition increases\"\n",
    "  },\n",
    "  {\n",
    "    \"photo_l\": \"Photo216.jpg\",\n",
    "    \"pos_l\": \"ThumbsDown.jpg\",\n",
    "    \"photo_r\": \"Photo300.jpg\",\n",
    "    \"pos_r\": \"ThumbsDown.jpg\",\n",
    "    \"iss_l\": \"Allow alt-right speakers on campuses\",\n",
    "    \"iss_r\": \"War on drugs\"\n",
    "  },\n",
    "  {\n",
    "    \"photo_l\": \"Photo216_2.jpg\",\n",
    "    \"pos_l\": \"ThumbsDown.jpg\",\n",
    "    \"photo_r\": \"Photo300_2.jpg\",\n",
    "    \"pos_r\": \"ThumbsDown.jpg\",\n",
    "    \"iss_l\": \"Mandatory training on sexual consent\",\n",
    "    \"iss_r\": \"On campus concealed carry\"\n",
    "  },\n",
    "  {\n",
    "    \"photo_l\": \"Photo217.jpg\",\n",
    "    \"pos_l\": \"ThumbsUp.jpg\",\n",
    "    \"photo_r\": \"Photo301.jpg\",\n",
    "    \"pos_r\": \"ThumbsUp.jpg\",\n",
    "    \"iss_l\": \"Build southern border wall\",\n",
    "    \"iss_r\": \"Gun free campus police\"\n",
    "  },\n",
    "  {\n",
    "    \"photo_l\": \"Photo217_2.jpg\",\n",
    "    \"pos_l\": \"ThumbsUp.jpg\",\n",
    "    \"photo_r\": \"Photo301_2.jpg\",\n",
    "    \"pos_r\": \"ThumbsUp.jpg\",\n",
    "    \"iss_l\": \"Detention of migrant children\",\n",
    "    \"iss_r\": \"Abolishing private prisons\"\n",
    "  },\n",
    "  {\n",
    "    \"photo_l\": \"Photo218.jpg\",\n",
    "    \"pos_l\": \"ThumbsDown.jpg\",\n",
    "    \"photo_r\": \"Photo308.jpg\",\n",
    "    \"pos_r\": \"ThumbsDown.jpg\",\n",
    "    \"iss_l\": \"Ban on ethnic halloween costumes\",\n",
    "    \"iss_r\": \"Student worker unionization\"\n",
    "  },\n",
    "  {\n",
    "    \"photo_l\": \"Photo218_2.jpg\",\n",
    "    \"pos_l\": \"ThumbsDown.jpg\",\n",
    "    \"photo_r\": \"Photo308_2.jpg\",\n",
    "    \"pos_r\": \"ThumbsDown.jpg\",\n",
    "    \"iss_l\": \"Mandatory vaccinations\",\n",
    "    \"iss_r\": \"Abolishing fraternities\"\n",
    "  },\n",
    "  {\n",
    "    \"photo_l\": \"Photo228.jpg\",\n",
    "    \"pos_l\": \"ThumbsUp.jpg\",\n",
    "    \"photo_r\": \"Photo315.jpg\",\n",
    "    \"pos_r\": \"ThumbsUp.jpg\",\n",
    "    \"iss_l\": \"Ban on research with animals\",\n",
    "    \"iss_r\": \"Bathrooms restricted based on biological sex\"\n",
    "  },\n",
    "  {\n",
    "    \"photo_l\": \"Photo228_2.jpg\",\n",
    "    \"pos_l\": \"ThumbsUp.jpg\",\n",
    "    \"photo_r\": \"Photo315_2.jpg\",\n",
    "    \"pos_r\": \"ThumbsUp.jpg\",\n",
    "    \"iss_l\": \"Religious exemptions for discrimination laws\",\n",
    "    \"iss_r\": \"BDS israel\"\n",
    "  },\n",
    "  {\n",
    "    \"photo_l\": \"Photo230.jpg\",\n",
    "    \"pos_l\": \"ThumbsDown.jpg\",\n",
    "    \"photo_r\": \"Photo316.jpg\",\n",
    "    \"pos_r\": \"ThumbsDown.jpg\",\n",
    "    \"iss_l\": \"Abortion rights\",\n",
    "    \"iss_r\": \"Mandatory drug tests for welfare recipients\"\n",
    "  },\n",
    "  {\n",
    "    \"photo_l\": \"Photo230_2.jpg\",\n",
    "    \"pos_l\": \"ThumbsDown.jpg\",\n",
    "    \"photo_r\": \"Photo316_2.jpg\",\n",
    "    \"pos_r\": \"ThumbsDown.jpg\",\n",
    "    \"iss_l\": \"Climate change legislation\",\n",
    "    \"iss_r\": \"Expel students with white nationlist views\"\n",
    "  },\n",
    "  {\n",
    "    \"photo_l\": \"Photo234.jpg\",\n",
    "    \"pos_l\": \"ThumbsUp.jpg\",\n",
    "    \"photo_r\": \"Photo320.jpg\",\n",
    "    \"pos_r\": \"ThumbsUp.jpg\",\n",
    "    \"iss_l\": \"Affirmative action\",\n",
    "    \"iss_r\": \"U.S. drone strikes in Yemen\"\n",
    "  },\n",
    "  {\n",
    "    \"photo_l\": \"Photo234_2.jpg\",\n",
    "    \"pos_l\": \"ThumbsUp.jpg\",\n",
    "    \"photo_r\": \"Photo320_2.jpg\",\n",
    "    \"pos_r\": \"ThumbsUp.jpg\",\n",
    "    \"iss_l\": \"Dorms determined by gender identity\",\n",
    "    \"iss_r\": \"Recognize Jerusalem as capital of Israel\"\n",
    "  },\n",
    "  {\n",
    "    \"photo_l\": \"Photo252.jpg\",\n",
    "    \"pos_l\": \"ThumbsDown.jpg\",\n",
    "    \"photo_r\": \"Photo335.jpg\",\n",
    "    \"pos_r\": \"ThumbsDown.jpg\",\n",
    "    \"iss_l\": \"Cuts to national parks budget\",\n",
    "    \"iss_r\": \"Legalization of marijuana\"\n",
    "  },\n",
    "  {\n",
    "    \"photo_l\": \"Photo252_2.jpg\",\n",
    "    \"pos_l\": \"ThumbsDown.jpg\",\n",
    "    \"photo_r\": \"Photo335_2.jpg\",\n",
    "    \"pos_r\": \"ThumbsDown.jpg\",\n",
    "    \"iss_l\": \"Mandatory trigger warningns\",\n",
    "    \"iss_r\": \"Defund planned parenthood\"\n",
    "  },\n",
    "  {\n",
    "    \"photo_l\": \"Photo254.jpg\",\n",
    "    \"pos_l\": \"ThumbsUp.jpg\",\n",
    "    \"photo_r\": \"Photo337.jpg\",\n",
    "    \"pos_r\": \"ThumbsUp.jpg\",\n",
    "    \"iss_l\": \"Tuition increases\",\n",
    "    \"iss_r\": \"Safe injection locations\"\n",
    "  },\n",
    "  {\n",
    "    \"photo_l\": \"Photo254_2.jpg\",\n",
    "    \"pos_l\": \"ThumbsUp.jpg\",\n",
    "    \"photo_r\": \"Photo337_2.jpg\",\n",
    "    \"pos_r\": \"ThumbsUp.jpg\",\n",
    "    \"iss_l\": \"War on drugs\",\n",
    "    \"iss_r\": \"Hardening schools/Arming teachers\"\n",
    "  },\n",
    "  {\n",
    "    \"photo_l\": \"Photo257.jpg\",\n",
    "    \"pos_l\": \"ThumbsDown.jpg\",\n",
    "    \"photo_r\": \"Photo353.jpg\",\n",
    "    \"pos_r\": \"ThumbsDown.jpg\",\n",
    "    \"iss_l\": \"On campus concealed carry\",\n",
    "    \"iss_r\": \"Against mask mandates\"\n",
    "  },\n",
    "  {\n",
    "    \"photo_l\": \"Photo257_2.jpg\",\n",
    "    \"pos_l\": \"ThumbsDown.jpg\",\n",
    "    \"photo_r\": \"Photo353_2.jpg\",\n",
    "    \"pos_r\": \"ThumbsDown.jpg\",\n",
    "    \"iss_l\": \"Gun free campus police\",\n",
    "    \"iss_r\": \"Remove police from schools\"\n",
    "  },\n",
    "  {\n",
    "    \"photo_l\": \"Photo258.jpg\",\n",
    "    \"pos_l\": \"ThumbsUp.jpg\",\n",
    "    \"photo_r\": \"Photo365.jpg\",\n",
    "    \"pos_r\": \"ThumbsUp.jpg\",\n",
    "    \"iss_l\": \"Abolishing private prisons\",\n",
    "    \"iss_r\": \"Racist Graffit on campus\"\n",
    "  },\n",
    "  {\n",
    "    \"photo_l\": \"Photo258_2.jpg\",\n",
    "    \"pos_l\": \"ThumbsUp.jpg\",\n",
    "    \"photo_r\": \"Photo365_2.jpg\",\n",
    "    \"pos_r\": \"ThumbsUp.jpg\",\n",
    "    \"iss_l\": \"Student worker unionization\",\n",
    "    \"iss_r\": \"Allow alt-right speakers on campuses\"\n",
    "  },\n",
    "  {\n",
    "    \"photo_l\": \"Photo261.jpg\",\n",
    "    \"pos_l\": \"ThumbsDown.jpg\",\n",
    "    \"photo_r\": \"Photo367.jpg\",\n",
    "    \"pos_r\": \"ThumbsDown.jpg\",\n",
    "    \"iss_l\": \"Abolishing fraternities\",\n",
    "    \"iss_r\": \"Mandatory training on sexual consent\"\n",
    "  },\n",
    "  {\n",
    "    \"photo_l\": \"Photo261_2.jpg\",\n",
    "    \"pos_l\": \"ThumbsDown.jpg\",\n",
    "    \"photo_r\": \"Photo367_2.jpg\",\n",
    "    \"pos_r\": \"ThumbsDown.jpg\",\n",
    "    \"iss_l\": \"Bathrooms restricted based on biological sex\",\n",
    "    \"iss_r\": \"Build southern border wall\"\n",
    "  },\n",
    "  {\n",
    "    \"photo_l\": \"Photo268.jpg\",\n",
    "    \"pos_l\": \"ThumbsUp.jpg\",\n",
    "    \"photo_r\": \"Photo368.jpg\",\n",
    "    \"pos_r\": \"ThumbsUp.jpg\",\n",
    "    \"iss_l\": \"BDS israel\",\n",
    "    \"iss_r\": \"Detention of migrant children\"\n",
    "  },\n",
    "  {\n",
    "    \"photo_l\": \"Photo268_2.jpg\",\n",
    "    \"pos_l\": \"ThumbsUp.jpg\",\n",
    "    \"photo_r\": \"Photo368_2.jpg\",\n",
    "    \"pos_r\": \"ThumbsUp.jpg\",\n",
    "    \"iss_l\": \"Mandatory drug tests for welfare recipients\",\n",
    "    \"iss_r\": \"Ban on ethnic halloween costumes\"\n",
    "  },\n",
    "  {\n",
    "    \"photo_l\": \"Photo273.jpg\",\n",
    "    \"pos_l\": \"ThumbsDown.jpg\",\n",
    "    \"photo_r\": \"Photo369.jpg\",\n",
    "    \"pos_r\": \"ThumbsDown.jpg\",\n",
    "    \"iss_l\": \"Expel students with white nationlist views\",\n",
    "    \"iss_r\": \"Mandatory vaccinations\"\n",
    "  },\n",
    "  {\n",
    "    \"photo_l\": \"Photo273_2.jpg\",\n",
    "    \"pos_l\": \"ThumbsDown.jpg\",\n",
    "    \"photo_r\": \"Photo369_2.jpg\",\n",
    "    \"pos_r\": \"ThumbsDown.jpg\",\n",
    "    \"iss_l\": \"U.S. drone strikes in Yemen\",\n",
    "    \"iss_r\": \"Ban on research with animals\"\n",
    "  },\n",
    "  {\n",
    "    \"photo_l\": \"Photo276.jpg\",\n",
    "    \"pos_l\": \"ThumbsUp.jpg\",\n",
    "    \"photo_r\": \"Photo374.jpg\",\n",
    "    \"pos_r\": \"ThumbsUp.jpg\",\n",
    "    \"iss_l\": \"Recognize Jerusalem as capital of Israel\",\n",
    "    \"iss_r\": \"Religious exemptions for discrimination laws\"\n",
    "  },\n",
    "  {\n",
    "    \"photo_l\": \"Photo276_2.jpg\",\n",
    "    \"pos_l\": \"ThumbsUp.jpg\",\n",
    "    \"photo_r\": \"Photo374_2.jpg\",\n",
    "    \"pos_r\": \"ThumbsUp.jpg\",\n",
    "    \"iss_l\": \"Legalization of marijuana\",\n",
    "    \"iss_r\": \"Abortion rights\"\n",
    "  },\n",
    "  {\n",
    "    \"photo_l\": \"Photo280.jpg\",\n",
    "    \"pos_l\": \"ThumbsDown.jpg\",\n",
    "    \"photo_r\": \"Photo377.jpg\",\n",
    "    \"pos_r\": \"ThumbsDown.jpg\",\n",
    "    \"iss_l\": \"Defund planned parenthood\",\n",
    "    \"iss_r\": \"Climate change legislation\"\n",
    "  },\n",
    "  {\n",
    "    \"photo_l\": \"Photo280_2.jpg\",\n",
    "    \"pos_l\": \"ThumbsDown.jpg\",\n",
    "    \"photo_r\": \"Photo377_2.jpg\",\n",
    "    \"pos_r\": \"ThumbsDown.jpg\",\n",
    "    \"iss_l\": \"Safe injection locations\",\n",
    "    \"iss_r\": \"Affirmative action\"\n",
    "  },\n",
    "  {\n",
    "    \"photo_l\": \"Photo288.jpg\",\n",
    "    \"pos_l\": \"ThumbsUp.jpg\",\n",
    "    \"photo_r\": \"Photo378.jpg\",\n",
    "    \"pos_r\": \"ThumbsUp.jpg\",\n",
    "    \"iss_l\": \"Hardening schools/Arming teachers\",\n",
    "    \"iss_r\": \"Dorms determined by gender identity\"\n",
    "  },\n",
    "  {\n",
    "    \"photo_l\": \"Photo288_2.jpg\",\n",
    "    \"pos_l\": \"ThumbsUp.jpg\",\n",
    "    \"photo_r\": \"Photo378_2.jpg\",\n",
    "    \"pos_r\": \"ThumbsUp.jpg\",\n",
    "    \"iss_l\": \"Against mask mandates\",\n",
    "    \"iss_r\": \"Cuts to national parks budget\"\n",
    "  },\n",
    "  {\n",
    "    \"photo_l\": \"Photo289.jpg\",\n",
    "    \"pos_l\": \"ThumbsDown.jpg\",\n",
    "    \"photo_r\": \"Photo999.jpg\",\n",
    "    \"pos_r\": \"ThumbsDown.jpg\",\n",
    "    \"iss_l\": \"Remove police from schools\",\n",
    "    \"iss_r\": \"Mandatory trigger warningns\"\n",
    "  },\n",
    "  {\n",
    "    \"photo_l\": \"Photo289_2.jpg\",\n",
    "    \"pos_l\": \"ThumbsDown.jpg\",\n",
    "    \"photo_r\": \"Photo999_2.jpg\",\n",
    "    \"pos_r\": \"ThumbsDown.jpg\",\n",
    "    \"iss_l\": \"Racist Graffit on campus\",\n",
    "    \"iss_r\": \"Black Lives Matter\"\n",
    "  }\n",
    "]"
   ]
  },
  {
   "cell_type": "code",
   "execution_count": 90,
   "id": "6fd6ce7b-9739-48e6-ad00-d83cdc53b081",
   "metadata": {},
   "outputs": [
    {
     "data": {
      "text/plain": [
       "{\n",
       "  photo_l: 'Photo206.jpg',\n",
       "  pos_l: 'ThumbsUp.jpg',\n",
       "  photo_r: 'Photo297.jpg',\n",
       "  pos_r: 'ThumbsUp.jpg',\n",
       "  iss_l: 'Remove public confederate memorials',\n",
       "  iss_r: 'Allow terminally ill patients to terminate their lives'\n",
       "}"
      ]
     },
     "execution_count": 90,
     "metadata": {},
     "output_type": "execute_result"
    }
   ],
   "source": [
    "stim_list[0]"
   ]
  },
  {
   "cell_type": "code",
   "execution_count": 96,
   "id": "3e1a4ae8-8575-4488-9146-8f5670ad8496",
   "metadata": {},
   "outputs": [
    {
     "data": {
      "text/plain": [
       "[\n",
       "  'Photo206.jpg', 'Photo206_2.jpg', 'Photo216.jpg', 'Photo216_2.jpg',\n",
       "  'Photo217.jpg', 'Photo217_2.jpg', 'Photo218.jpg', 'Photo218_2.jpg',\n",
       "  'Photo228.jpg', 'Photo228_2.jpg', 'Photo230.jpg', 'Photo230_2.jpg',\n",
       "  'Photo234.jpg', 'Photo234_2.jpg', 'Photo252.jpg', 'Photo252_2.jpg',\n",
       "  'Photo254.jpg', 'Photo254_2.jpg', 'Photo257.jpg', 'Photo257_2.jpg',\n",
       "  'Photo258.jpg', 'Photo258_2.jpg', 'Photo261.jpg', 'Photo261_2.jpg',\n",
       "  'Photo268.jpg', 'Photo268_2.jpg', 'Photo273.jpg', 'Photo273_2.jpg',\n",
       "  'Photo276.jpg', 'Photo276_2.jpg', 'Photo280.jpg', 'Photo280_2.jpg',\n",
       "  'Photo288.jpg', 'Photo288_2.jpg', 'Photo289.jpg', 'Photo289_2.jpg',\n",
       "  'Photo297.jpg', 'Photo297_2.jpg', 'Photo300.jpg', 'Photo300_2.jpg',\n",
       "  'Photo301.jpg', 'Photo301_2.jpg', 'Photo308.jpg', 'Photo308_2.jpg',\n",
       "  'Photo315.jpg', 'Photo315_2.jpg', 'Photo316.jpg', 'Photo316_2.jpg',\n",
       "  'Photo320.jpg', 'Photo320_2.jpg', 'Photo335.jpg', 'Photo335_2.jpg',\n",
       "  'Photo337.jpg', 'Photo337_2.jpg', 'Photo353.jpg', 'Photo353_2.jpg',\n",
       "  'Photo365.jpg', 'Photo365_2.jpg', 'Photo367.jpg', 'Photo367_2.jpg',\n",
       "  'Photo368.jpg', 'Photo368_2.jpg', 'Photo369.jpg', 'Photo369_2.jpg',\n",
       "  'Photo374.jpg', 'Photo374_2.jpg', 'Photo377.jpg', 'Photo377_2.jpg',\n",
       "  'Photo378.jpg', 'Photo378_2.jpg', 'Photo999.jpg', 'Photo999_2.jpg'\n",
       "]"
      ]
     },
     "execution_count": 96,
     "metadata": {},
     "output_type": "execute_result"
    }
   ],
   "source": [
    "images_left = stim_list.map(value => value.photo_l);\n",
    "images_right = stim_list.map(value => value.photo_r);\n",
    "images = images_left.concat(images_right);\n",
    "images"
   ]
  },
  {
   "cell_type": "code",
   "execution_count": null,
   "id": "2978f5c8-6490-4c50-b5d6-feb5deb14bbd",
   "metadata": {},
   "outputs": [],
   "source": []
  }
 ],
 "metadata": {
  "kernelspec": {
   "display_name": "Javascript (Node.js)",
   "language": "javascript",
   "name": "javascript"
  },
  "language_info": {
   "file_extension": ".js",
   "mimetype": "application/javascript",
   "name": "javascript",
   "version": "16.6.1"
  }
 },
 "nbformat": 4,
 "nbformat_minor": 5
}
