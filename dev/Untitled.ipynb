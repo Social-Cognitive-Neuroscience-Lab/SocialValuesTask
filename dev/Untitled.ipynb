{
 "cells": [
  {
   "cell_type": "markdown",
   "id": "05fdbdcd-80ab-4b68-a2cf-20148382e3cd",
   "metadata": {},
   "source": [
    "# Pupil-linked DDM\n",
    "From de Gee 2020 (10.7554/eLife.54014)"
   ]
  },
  {
   "cell_type": "code",
   "execution_count": null,
   "id": "e182ca0a-b959-447e-a5ea-6326d77b8310",
   "metadata": {},
   "outputs": [],
   "source": []
  }
 ],
 "metadata": {
  "kernelspec": {
   "display_name": "Python 3",
   "language": "python",
   "name": "python3"
  },
  "language_info": {
   "codemirror_mode": {
    "name": "ipython",
    "version": 3
   },
   "file_extension": ".py",
   "mimetype": "text/x-python",
   "name": "python",
   "nbconvert_exporter": "python",
   "pygments_lexer": "ipython3",
   "version": "3.7.9"
  }
 },
 "nbformat": 4,
 "nbformat_minor": 5
}
