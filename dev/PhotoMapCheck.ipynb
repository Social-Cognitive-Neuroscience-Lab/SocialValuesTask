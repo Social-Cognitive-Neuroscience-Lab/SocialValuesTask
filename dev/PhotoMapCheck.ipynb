{
 "cells": [
  {
   "cell_type": "markdown",
   "id": "a7d9affd-aa94-444b-ae1d-9064a01c8888",
   "metadata": {},
   "source": [
    "# Manage and prepare photos for Social Values Task"
   ]
  },
  {
   "cell_type": "code",
   "execution_count": 55,
   "id": "68937592-e9a6-4332-903c-349efaae2297",
   "metadata": {},
   "outputs": [],
   "source": [
    "import PIL\n",
    "from PIL import Image\n",
    "import pandas as pd\n",
    "import numpy as np\n",
    "from os import listdir\n",
    "from os.path import isfile, join\n",
    "import re"
   ]
  },
  {
   "cell_type": "markdown",
   "id": "2477d43e-61f9-4258-be29-384bb43ef0be",
   "metadata": {},
   "source": [
    "Read in list of all photos"
   ]
  },
  {
   "cell_type": "code",
   "execution_count": 56,
   "id": "d969c5e4-f0b9-4b6c-adc0-74a47ff6a811",
   "metadata": {},
   "outputs": [],
   "source": [
    "photo_dir = '../img/'\n",
    "photo_files = [f for f in listdir(photo_dir) if isfile(join(photo_dir, f)) ]\n",
    "\n",
    "# use only jpgs on pngs\n",
    "photo_files = [f for f in photo_files if f.startswith('Photo') and (f.endswith('.jpg') or f.endswith('.png')) ]\n",
    "\n",
    "# screen out left-right flips\n",
    "photo_files = [f for f in photo_files if not '_2.' in f]"
   ]
  },
  {
   "cell_type": "markdown",
   "id": "99ea8114-2697-4e6c-b1b1-12bd6a95c842",
   "metadata": {},
   "source": [
    "Generate left-right flips for images without them"
   ]
  },
  {
   "cell_type": "code",
   "execution_count": 57,
   "id": "b9658a14-62e0-4a74-a7e6-28e206805740",
   "metadata": {},
   "outputs": [],
   "source": [
    "def create_flip(f_name, f_dir='../img/'):\n",
    "    \"\"\"\n",
    "    Read in the image at `file_path` and create a left-right flipped version.\n",
    "    Save this new version with '_2' appended to the file name\n",
    "    \"\"\"\n",
    "    f_base, f_ext = (f_name[:-4], f_name[-3:])\n",
    "    \n",
    "    im = Image.open(join(f_dir, f_name))\n",
    "    \n",
    "    out = im.transpose(Image.FLIP_LEFT_RIGHT)\n",
    "    out.save(join(f_dir, '{}_2.{}'.format(f_base, f_ext)))\n",
    "    "
   ]
  },
  {
   "cell_type": "code",
   "execution_count": 70,
   "id": "faa16bbb-3da1-46bb-9aa3-7235ab380d5b",
   "metadata": {},
   "outputs": [
    {
     "name": "stdout",
     "output_type": "stream",
     "text": [
      "0 new flipped images created.\n"
     ]
    }
   ],
   "source": [
    "flipped = 0\n",
    "for p in photo_files:\n",
    "    p_base, p_ext = (p[:-4], p[-3:])\n",
    "    if not isfile(join(photo_dir, '{}_2.{}'.format(p_base, p_ext))):\n",
    "        create_flip(p)\n",
    "        flipped += 1\n",
    "print('{} new flipped images created.'.format(flipped))"
   ]
  },
  {
   "cell_type": "code",
   "execution_count": 71,
   "id": "0a53721a-62ac-4f30-ac55-de5d69be38f7",
   "metadata": {},
   "outputs": [],
   "source": [
    "photo_map = pd.read_excel(\"PhotoMap.xlsx\")"
   ]
  },
  {
   "cell_type": "code",
   "execution_count": 72,
   "id": "d3fc5def-57bc-4c98-81e4-f52a5fc46f34",
   "metadata": {},
   "outputs": [],
   "source": [
    "for_maps = []\n",
    "for photo in photo_map.PhotosFor.values:\n",
    "    for_vals = photo.replace(' ','').split(',')\n",
    "    for v in for_vals:\n",
    "        for_maps.append(v)"
   ]
  },
  {
   "cell_type": "code",
   "execution_count": 73,
   "id": "425a3bc5-f524-4d1a-bfd7-901eef48b82a",
   "metadata": {},
   "outputs": [],
   "source": [
    "for_maps = list(set(for_maps))"
   ]
  },
  {
   "cell_type": "code",
   "execution_count": 74,
   "id": "40b177dc-4d9a-4992-b3e1-a4b6145809ee",
   "metadata": {},
   "outputs": [],
   "source": [
    "con_maps = []\n",
    "for photo in photo_map.PhotosAgainst.values:\n",
    "    con_vals = photo.replace(' ','').split(',')\n",
    "    for v in con_vals:\n",
    "        con_maps.append(v)"
   ]
  },
  {
   "cell_type": "code",
   "execution_count": 75,
   "id": "7e32ad62-0ece-4df8-a338-a9a2021780a2",
   "metadata": {},
   "outputs": [],
   "source": [
    "con_maps = list(set(con_maps))"
   ]
  },
  {
   "cell_type": "code",
   "execution_count": 76,
   "id": "08743f42-2f3e-4f9b-b976-08446eac06f5",
   "metadata": {},
   "outputs": [],
   "source": [
    "all_maps = for_maps + con_maps "
   ]
  },
  {
   "cell_type": "code",
   "execution_count": 77,
   "id": "e497c382-ce40-466c-a445-2bd37271ee10",
   "metadata": {},
   "outputs": [],
   "source": [
    "all_mapped = list(set(all_maps))\n",
    "all_mapped.sort()"
   ]
  },
  {
   "cell_type": "code",
   "execution_count": 78,
   "id": "f20c8e76-e452-4d8c-9069-35e92dc5fc06",
   "metadata": {},
   "outputs": [
    {
     "name": "stdout",
     "output_type": "stream",
     "text": [
      "['202']\n"
     ]
    }
   ],
   "source": [
    "x = re.findall(\"[0-9][0-9][0-9]*\",photo_files[0])\n",
    "print(x)"
   ]
  },
  {
   "cell_type": "code",
   "execution_count": 79,
   "id": "269fbf49-e7c8-4abc-852e-7b8213eb32bd",
   "metadata": {},
   "outputs": [
    {
     "name": "stdout",
     "output_type": "stream",
     "text": [
      "['1079']\n"
     ]
    }
   ],
   "source": [
    "x = re.findall(\"[0-9][0-9][0-9]*\",photo_files[-1])\n",
    "print(x)"
   ]
  },
  {
   "cell_type": "code",
   "execution_count": 80,
   "id": "0b247b61-4dee-43f3-863f-b78e0888aa0b",
   "metadata": {},
   "outputs": [
    {
     "name": "stdout",
     "output_type": "stream",
     "text": [
      "Photo_1002_01.png ['1002_01']\n",
      "Photo_1002_02.png ['1002_02']\n",
      "Photo_1003_01.png ['1003_01']\n",
      "Photo_1003_02.png ['1003_02']\n",
      "Photo_1005_01.png ['1005_01']\n",
      "Photo_1005_02.png ['1005_02']\n",
      "Photo_1006_01.png ['1006_01']\n",
      "Photo_1006_02.png ['1006_02']\n",
      "Photo_1007_01.png ['1007_01']\n",
      "Photo_1007_02.png ['1007_02']\n",
      "Photo_1008_01.png ['1008_01']\n",
      "Photo_1008_02.png ['1008_02']\n",
      "Photo_1011_01.png ['1011_01']\n",
      "Photo_1011_02.png ['1011_02']\n",
      "Photo_1012_01.png ['1012_01']\n",
      "Photo_1012_02.png ['1012_02']\n",
      "Photo_1017_01.png ['1017_01']\n",
      "Photo_1017_02.png ['1017_02']\n",
      "Photo_1018_01.png ['1018_01']\n",
      "Photo_1018_02.png ['1018_02']\n",
      "Photo_1019_01.png ['1019_01']\n",
      "Photo_1019_02.png ['1019_02']\n",
      "Photo_1020_01.png ['1020_01']\n",
      "Photo_1020_02.png ['1020_02']\n",
      "Photo_1020_03.png ['1020_03']\n",
      "Photo_1021_01.png ['1021_01']\n",
      "Photo_1021_02.png ['1021_02']\n",
      "Photo_1022_01.png ['1022_01']\n",
      "Photo_1022_02.png ['1022_02']\n",
      "Photo_1024_01.png ['1024_01']\n",
      "Photo_1024_02.png ['1024_02']\n",
      "Photo_1025_01.png ['1025_01']\n",
      "Photo_1025_02.png ['1025_02']\n",
      "Photo_1026_01.png ['1026_01']\n",
      "Photo_1026_02.png ['1026_02']\n",
      "Photo_1027_01.png ['1027_01']\n",
      "Photo_1027_02.png ['1027_02']\n",
      "Photo_1030_01.png ['1030_01']\n",
      "Photo_1030_02.png ['1030_02']\n",
      "Photo_1034_01.png ['1034_01']\n",
      "Photo_1034_02.png ['1034_02']\n",
      "Photo_1035_01.png ['1035_01']\n",
      "Photo_1035_02.png ['1035_02']\n",
      "Photo_1035_03.png ['1035_03']\n",
      "Photo_1035_04.png ['1035_04']\n",
      "Photo_1035_05.png ['1035_05']\n",
      "Photo_1039_01.png ['1039_01']\n",
      "Photo_1039_02.png ['1039_02']\n"
     ]
    }
   ],
   "source": [
    "for p in photo_files:\n",
    "    p_num = re.findall(\"[0-9].*[0-9]\", p)\n",
    "    if not p_num[0] in all_mapped:\n",
    "        print('{} {}'.format(p, p_num))"
   ]
  },
  {
   "cell_type": "code",
   "execution_count": 83,
   "id": "07f38c23-dc4a-4fc7-a4d6-229bbe9463b0",
   "metadata": {},
   "outputs": [],
   "source": [
    "# columns: photo_files\n",
    "# rows: issues\n",
    "issues = photo_map.Short.values"
   ]
  },
  {
   "cell_type": "code",
   "execution_count": 117,
   "id": "99991c8a-1e6b-40ba-a884-08fba451b61c",
   "metadata": {},
   "outputs": [
    {
     "data": {
      "text/plain": [
       "False"
      ]
     },
     "execution_count": 117,
     "metadata": {},
     "output_type": "execute_result"
    }
   ],
   "source": [
    "'231' in photo_map.PhotosFor.iloc[0,]"
   ]
  },
  {
   "cell_type": "code",
   "execution_count": 118,
   "id": "f71595bf-7bca-46f5-b38b-e25b9b4c3573",
   "metadata": {},
   "outputs": [],
   "source": [
    "p_map_for = np.zeros((len(photo_files), len(issues)))\n",
    "p_map_against = np.zeros((len(photo_files), len(issues)))\n",
    "\n",
    "# check each issue\n",
    "for p_idx in range(len(photo_files)):\n",
    "    # was photo assigned to the issue?\n",
    "    for i_idx in range(len(issues)):\n",
    "        # check for 3/4 digit matches\n",
    "        p_num = re.search('\\d+|$', photo_files[p_idx]).group()\n",
    "        \n",
    "        # skip blanks\n",
    "        if len(p_num) == 0:\n",
    "            continue\n",
    "        \n",
    "        if p_num in photo_map.PhotosFor.iloc[i_idx,]:\n",
    "            hit = 1\n",
    "        elif len(p_num_multi) > 0 and p_num_multi in photo_map.PhotosFor.iloc[i_idx,]:\n",
    "            hit = 1\n",
    "        else:\n",
    "            hit = 0\n",
    "            \n",
    "        p_map_for[p_idx, i_idx] = hit\n",
    "        \n",
    "        if p_num in photo_map.PhotosAgainst.iloc[i_idx,]:\n",
    "            hit = 1\n",
    "        elif len(p_num_multi) > 0 and p_num_multi in photo_map.PhotosAgainst.iloc[i_idx,]:\n",
    "            hit = 1\n",
    "        else:\n",
    "            hit = 0\n",
    "        p_map_against[p_idx, i_idx] = hit\n"
   ]
  },
  {
   "cell_type": "code",
   "execution_count": 119,
   "id": "80fab77f-169d-496c-8913-4e1222f46d56",
   "metadata": {},
   "outputs": [],
   "source": [
    "photo_labels = [f[:-4] for f in photo_files]"
   ]
  },
  {
   "cell_type": "code",
   "execution_count": 120,
   "id": "953002dd-1be6-41c6-91b7-46788df1f96c",
   "metadata": {},
   "outputs": [],
   "source": [
    "for_df = pd.DataFrame(p_map_for, columns = issues, index = photo_labels)\n",
    "against_df = pd.DataFrame(p_map_against, columns = issues, index = photo_labels)"
   ]
  },
  {
   "cell_type": "code",
   "execution_count": 121,
   "id": "3bee87ed-f0d3-4d08-a220-3c92fdd86923",
   "metadata": {},
   "outputs": [],
   "source": [
    "for_df.to_csv('photo_map_for.csv')\n",
    "against_df.to_csv('photo_map_against.csv')"
   ]
  },
  {
   "cell_type": "code",
   "execution_count": 127,
   "id": "5cd09c80-23bc-4c59-b95a-7554096c9e6e",
   "metadata": {},
   "outputs": [
    {
     "data": {
      "text/plain": [
       "array([35., 22., 32.,  7., 21.,  4.,  6., 15.,  5.,  7., 18.,  2.,  5.,\n",
       "       27., 16.,  9., 22., 11.,  6.,  8., 21., 18., 37., 34., 29., 31.,\n",
       "       14., 17., 28., 30., 35., 27., 30., 14.,  9.,  9., 13., 11., 13.,\n",
       "        4., 14., 18.,  8., 12., 26., 11., 16.,  9.,  3.,  8., 11., 44.,\n",
       "       44., 17., 17., 12., 11., 11., 10., 10., 10., 10., 30., 30.,  6.,\n",
       "        5., 14., 14.,  4.,  4.,  4., 10., 17.,  1.,  3.,  3.,  6.,  6.,\n",
       "        3.,  3.,  2.,  2.,  2.,  4.,  4.,  1.,  1.,  5.,  1.,  1.,  1.,\n",
       "        1.,  2.,  2.,  2.,  2.,  3.,  5.,  5.,  5.,  4.,  6.,  2.,  2.,\n",
       "        2.,  2.,  2.,  2.,  2.,  2.,  2.,  2.,  2.,  1.,  3.,  3.,  2.,\n",
       "       24., 12., 18.,  8., 17., 17., 17.,  6.,  6.,  8.,  8.,  8.,  7.,\n",
       "        7., 18.,  4.,  8., 14.,  6.,  4., 10.,  4.,  2.,  5.,  5.,  5.,\n",
       "       11., 11., 11., 11.,  3.,  3.,  3.,  8.,  8.,  8., 10.,  5.,  5.,\n",
       "        5.,  7.,  7., 13., 13., 13., 13.,  7.,  7.,  3.,  3.,  7.,  7.,\n",
       "        7.,  7., 10., 10., 10.,  5.,  5.,  5.,  2.,  2.,  2.,  2., 10.,\n",
       "        6., 49., 14., 11., 11.,  3., 16.,  6.])"
      ]
     },
     "execution_count": 127,
     "metadata": {},
     "output_type": "execute_result"
    }
   ],
   "source": [
    "p_map_for.sum(axis=1)"
   ]
  },
  {
   "cell_type": "code",
   "execution_count": 132,
   "id": "b3241f09-7374-4f07-bc27-dc8698bb1917",
   "metadata": {},
   "outputs": [
    {
     "name": "stdout",
     "output_type": "stream",
     "text": [
      "Photo202 15.0\n",
      "Photo206 14.0\n",
      "Photo216 14.0\n",
      "Photo217 2.0\n",
      "Photo218 10.0\n",
      "Photo220 13.0\n",
      "Photo225 5.0\n",
      "Photo228 10.0\n",
      "Photo230 7.0\n",
      "Photo231 11.0\n",
      "Photo234 16.0\n",
      "Photo238 0.0\n",
      "Photo252 6.0\n",
      "Photo254 19.0\n",
      "Photo257 11.0\n",
      "Photo258 8.0\n",
      "Photo261 13.0\n",
      "Photo262 10.0\n",
      "Photo268 7.0\n",
      "Photo272 4.0\n",
      "Photo273 14.0\n",
      "Photo275 9.0\n",
      "Photo276 36.0\n",
      "Photo280 30.0\n",
      "Photo288 25.0\n",
      "Photo289 21.0\n",
      "Photo297 18.0\n",
      "Photo300 12.0\n",
      "Photo301 17.0\n",
      "Photo308 17.0\n",
      "Photo315 19.0\n",
      "Photo316 12.0\n",
      "Photo320 13.0\n",
      "Photo333 6.0\n",
      "Photo335 6.0\n",
      "Photo337 15.0\n",
      "Photo341 12.0\n",
      "Photo351 9.0\n",
      "Photo353 5.0\n",
      "Photo355 4.0\n",
      "Photo362 5.0\n",
      "Photo365 7.0\n",
      "Photo366 2.0\n",
      "Photo367 6.0\n",
      "Photo368 12.0\n",
      "Photo369 5.0\n",
      "Photo374 6.0\n",
      "Photo377 5.0\n",
      "Photo378 1.0\n",
      "Photo999 3.0\n",
      "Photo_1001 15.0\n",
      "Photo_1002_01 18.0\n",
      "Photo_1002_02 18.0\n",
      "Photo_1003_01 5.0\n",
      "Photo_1003_02 5.0\n",
      "Photo_1004 6.0\n",
      "Photo_1005_01 4.0\n",
      "Photo_1005_02 4.0\n",
      "Photo_1006_01 2.0\n",
      "Photo_1006_02 2.0\n",
      "Photo_1007_01 4.0\n",
      "Photo_1007_02 4.0\n",
      "Photo_1008_01 1.0\n",
      "Photo_1008_02 1.0\n",
      "Photo_1009 0.0\n",
      "Photo_1010 0.0\n",
      "Photo_1011_01 2.0\n",
      "Photo_1011_02 2.0\n",
      "Photo_1012_01 0.0\n",
      "Photo_1012_02 0.0\n",
      "Photo_1013 0.0\n",
      "Photo_1014 3.0\n",
      "Photo_1015 5.0\n",
      "Photo_1016 2.0\n",
      "Photo_1017_01 0.0\n",
      "Photo_1017_02 0.0\n",
      "Photo_1018_01 1.0\n",
      "Photo_1018_02 1.0\n",
      "Photo_1019_01 0.0\n",
      "Photo_1019_02 0.0\n",
      "Photo_1020_01 2.0\n",
      "Photo_1020_02 2.0\n",
      "Photo_1020_03 2.0\n",
      "Photo_1021_01 4.0\n",
      "Photo_1021_02 4.0\n",
      "Photo_1022_01 0.0\n",
      "Photo_1022_02 0.0\n",
      "Photo_1023 1.0\n",
      "Photo_1024_01 1.0\n",
      "Photo_1024_02 1.0\n",
      "Photo_1025_01 0.0\n",
      "Photo_1025_02 0.0\n",
      "Photo_1026_01 10.0\n",
      "Photo_1026_02 10.0\n",
      "Photo_1027_01 4.0\n",
      "Photo_1027_02 4.0\n",
      "Photo_1028 1.0\n",
      "Photo_1029 0.0\n",
      "Photo_1030_01 2.0\n",
      "Photo_1030_02 2.0\n",
      "Photo_1031 1.0\n",
      "Photo_1032 4.0\n",
      "Photo_1033 1.0\n",
      "Photo_1034_01 0.0\n",
      "Photo_1034_02 0.0\n",
      "Photo_1035_01 0.0\n",
      "Photo_1035_02 0.0\n",
      "Photo_1035_03 0.0\n",
      "Photo_1035_04 0.0\n",
      "Photo_1035_05 0.0\n",
      "Photo_1036_01 3.0\n",
      "Photo_1036_02 3.0\n",
      "Photo_1037 0.0\n",
      "Photo_1038 0.0\n",
      "Photo_1039_01 0.0\n",
      "Photo_1039_02 0.0\n",
      "Photo_1040 0.0\n",
      "Photo_1041 8.0\n",
      "Photo_1042 6.0\n",
      "Photo_1043 9.0\n",
      "Photo_1044 3.0\n",
      "Photo_1045_01 10.0\n",
      "Photo_1045_02 10.0\n",
      "Photo_1045_03 10.0\n",
      "Photo_1046_01 4.0\n",
      "Photo_1046_02 4.0\n",
      "Photo_1047_01 5.0\n",
      "Photo_1047_02 5.0\n",
      "Photo_1047_03 5.0\n",
      "Photo_1048_01 4.0\n",
      "Photo_1048_02 4.0\n",
      "Photo_1049 13.0\n",
      "Photo_1050 1.0\n",
      "Photo_1051 9.0\n",
      "Photo_1052 14.0\n",
      "Photo_1053 1.0\n",
      "Photo_1054 2.0\n",
      "Photo_1055 6.0\n",
      "Photo_1056 3.0\n",
      "Photo_1057 1.0\n",
      "Photo_1058_01 1.0\n",
      "Photo_1058_02 1.0\n",
      "Photo_1058_03 1.0\n",
      "Photo_1059_01 8.0\n",
      "Photo_1059_02 8.0\n",
      "Photo_1059_03 8.0\n",
      "Photo_1059_04 8.0\n",
      "Photo_1060_01 1.0\n",
      "Photo_1060_02 1.0\n",
      "Photo_1060_03 1.0\n",
      "Photo_1061_01 4.0\n",
      "Photo_1061_02 4.0\n",
      "Photo_1061_03 4.0\n",
      "Photo_1062 5.0\n",
      "Photo_1063_01 4.0\n",
      "Photo_1063_02 4.0\n",
      "Photo_1063_03 4.0\n",
      "Photo_1064_01 6.0\n",
      "Photo_1064_02 6.0\n",
      "Photo_1065_01 13.0\n",
      "Photo_1065_02 13.0\n",
      "Photo_1065_03 13.0\n",
      "Photo_1065_04 13.0\n",
      "Photo_1066_01 3.0\n",
      "Photo_1066_02 3.0\n",
      "Photo_1067_01 1.0\n",
      "Photo_1067_02 1.0\n",
      "Photo_1068_01 5.0\n",
      "Photo_1068_02 5.0\n",
      "Photo_1068_03 5.0\n",
      "Photo_1068_04 5.0\n",
      "Photo_1069_01 7.0\n",
      "Photo_1069_02 7.0\n",
      "Photo_1069_03 7.0\n",
      "Photo_1070_01 2.0\n",
      "Photo_1070_02 2.0\n",
      "Photo_1070_03 2.0\n",
      "Photo_1071_01 3.0\n",
      "Photo_1071_02 3.0\n",
      "Photo_1071_03 3.0\n",
      "Photo_1071_04 3.0\n",
      "Photo_1072 6.0\n",
      "Photo_1073 3.0\n",
      "Photo_1074 49.0\n",
      "Photo_1075 8.0\n",
      "Photo_1076_01 7.0\n",
      "Photo_1076_02 7.0\n",
      "Photo_1077 1.0\n",
      "Photo_1078 5.0\n",
      "Photo_1079 5.0\n"
     ]
    }
   ],
   "source": [
    "nrow, ncol = p_map_against.shape\n",
    "photo_totals = p_map_against.sum(axis=1)\n",
    "for ii in range(nrow):\n",
    "    print(photo_labels[ii], photo_totals[ii])"
   ]
  },
  {
   "cell_type": "code",
   "execution_count": 129,
   "id": "1abfdeb9-fc92-4c06-9051-309ff8736264",
   "metadata": {},
   "outputs": [
    {
     "data": {
      "text/plain": [
       "190"
      ]
     },
     "execution_count": 129,
     "metadata": {},
     "output_type": "execute_result"
    }
   ],
   "source": []
  },
  {
   "cell_type": "code",
   "execution_count": null,
   "id": "07dca726-6a2b-4db5-9886-31d99b3663b8",
   "metadata": {},
   "outputs": [],
   "source": []
  }
 ],
 "metadata": {
  "kernelspec": {
   "display_name": "Python 3",
   "language": "python",
   "name": "python3"
  },
  "language_info": {
   "codemirror_mode": {
    "name": "ipython",
    "version": 3
   },
   "file_extension": ".py",
   "mimetype": "text/x-python",
   "name": "python",
   "nbconvert_exporter": "python",
   "pygments_lexer": "ipython3",
   "version": "3.7.9"
  }
 },
 "nbformat": 4,
 "nbformat_minor": 5
}
